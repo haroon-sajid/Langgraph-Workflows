{
 "cells": [
  {
   "cell_type": "code",
   "execution_count": 2,
   "id": "ab54260d",
   "metadata": {},
   "outputs": [],
   "source": [
    "from langgraph.graph import StateGraph, START, END\n",
    "from langchain_openai import ChatOpenAI\n",
    "from typing import TypedDict\n",
    "from dotenv import load_dotenv"
   ]
  },
  {
   "cell_type": "code",
   "execution_count": 3,
   "id": "bb31e85d",
   "metadata": {},
   "outputs": [
    {
     "data": {
      "text/plain": [
       "True"
      ]
     },
     "execution_count": 3,
     "metadata": {},
     "output_type": "execute_result"
    }
   ],
   "source": [
    "load_dotenv()"
   ]
  },
  {
   "cell_type": "code",
   "execution_count": 4,
   "id": "8086d457",
   "metadata": {},
   "outputs": [],
   "source": [
    "model = ChatOpenAI()"
   ]
  },
  {
   "cell_type": "code",
   "execution_count": 15,
   "id": "cd4751cd",
   "metadata": {},
   "outputs": [],
   "source": [
    "# 1st of all - define the state\n",
    "class BlogState(TypedDict):\n",
    "    title: str\n",
    "    outline: str\n",
    "    content: str\n",
    "    evaluate: str"
   ]
  },
  {
   "cell_type": "code",
   "execution_count": null,
   "id": "d81e3456",
   "metadata": {},
   "outputs": [],
   "source": [
    "# create a node to generating outlines\n",
    "\n",
    "def create_outline(state: BlogState) -> BlogState:\n",
    "    # fetch title\n",
    "    title = state['title']\n",
    "\n",
    "    # call llm and generate outline\n",
    "    prompt = f\"generate a detailed outline for a blog on the topic of - {title}\"\n",
    "    outline = model.invoke(prompt).content\n",
    "\n",
    "    # update the state\n",
    "    state['outline'] = outline\n",
    "    return state"
   ]
  },
  {
   "cell_type": "code",
   "execution_count": null,
   "id": "360ab97b",
   "metadata": {},
   "outputs": [],
   "source": [
    " # create a node to generating blog\n",
    " \n",
    " def create_blog(state: BlogState) -> BlogState:\n",
    "\n",
    "    #fetch title and outline\n",
    "    title = state['title']\n",
    "    outline = state['outline']\n",
    "\n",
    "    # call the llm again and generate a blog\n",
    "    prompt = f\"write a detailed blog on the title - {title} using the following outline \\n {outline}\"\n",
    "    content = model.invoke(prompt).content\n",
    "    state['content'] = content\n",
    "\n",
    "    return state"
   ]
  },
  {
   "cell_type": "code",
   "execution_count": 16,
   "id": "301664a9",
   "metadata": {},
   "outputs": [],
   "source": [
    "# create a node to evaluating blog\n",
    "\n",
    "def evaluate_blog(state: BlogState) -> BlogState:\n",
    "\n",
    "    #fetch title, outline, content\n",
    "    title = state['title']\n",
    "    outline = state['outline']\n",
    "    content = state['content']\n",
    "\n",
    "    # call the llm again and rate the blog based on outline\n",
    "    prompt = f\"Rate my blog based on this {outline} and generate an integer score from 1 to 10\"\n",
    "    evaluate = model.invoke(prompt).content\n",
    "    state['evaluate'] = evaluate\n",
    "\n",
    "    return state"
   ]
  },
  {
   "cell_type": "code",
   "execution_count": 17,
   "id": "eb523a52",
   "metadata": {},
   "outputs": [],
   "source": [
    "# create the graph\n",
    "graph = StateGraph(BlogState)\n",
    "\n",
    "# add the nodes\n",
    "graph.add_node('create_outline', create_outline)\n",
    "graph.add_node('create_blog', create_blog)\n",
    "graph.add_node('evaluate_blog', evaluate_blog)\n",
    "\n",
    "# add the edges\n",
    "graph.add_edge(START, 'create_outline')\n",
    "graph.add_edge('create_outline', 'create_blog')\n",
    "graph.add_edge('create_blog', 'evaluate_blog')\n",
    "graph.add_edge('evaluate_blog', END)\n",
    "\n",
    "workflow = graph.compile()"
   ]
  },
  {
   "cell_type": "code",
   "execution_count": 18,
   "id": "50d4d5e7",
   "metadata": {},
   "outputs": [
    {
     "name": "stdout",
     "output_type": "stream",
     "text": [
      "Emerging of the AI in the Pakistan in 2025\n",
      "I. Introduction\n",
      "    A. Brief overview of Artificial Intelligence (AI) \n",
      "    B. Definition of AI\n",
      "    C. Importance of AI in various sectors\n",
      "    D. Introduction to the emergence of AI in Pakistan in 2025\n",
      "\n",
      "II. Current scenario of AI in Pakistan\n",
      "    A. Overview of AI technology in Pakistan\n",
      "    B. AI adoption in different sectors (e.g. healthcare, finance, education)\n",
      "    C. Challenges faced by Pakistan in adopting AI technology\n",
      "\n",
      "III. Factors contributing to the emergence of AI in Pakistan in 2025\n",
      "    A. Government initiatives and policies\n",
      "    B. Investments in AI research and development\n",
      "    C. Collaboration with international AI experts\n",
      "    D. Increased awareness and acceptance of AI technology\n",
      "\n",
      "IV. Impact of AI on different sectors in Pakistan\n",
      "    A. Healthcare\n",
      "        1. AI in disease diagnosis and treatment\n",
      "        2. Telemedicine and remote healthcare services\n",
      "    B. Finance\n",
      "        1. AI in banking and financial services\n",
      "        2. Fraud detection and prevention\n",
      "    C. Education\n",
      "        1. AI in personalized learning\n",
      "        2. Virtual classrooms and online education platforms\n",
      "\n",
      "V. Challenges and opportunities of AI in Pakistan\n",
      "    A. Job displacement and upskilling of workforce\n",
      "    B. Privacy and ethical concerns\n",
      "    C. Opportunities for innovation and economic growth\n",
      "    D. Role of government and regulatory bodies in fostering AI adoption\n",
      "\n",
      "VI. Future projections and trends in AI in Pakistan\n",
      "    A. Potential advancements in AI technology\n",
      "    B. AI startups and entrepreneurship in Pakistan\n",
      "    C. Collaborations with global AI companies\n",
      "    D. Impact of AI on society and economy\n",
      "\n",
      "VII. Conclusion\n",
      "    A. Recap of key points discussed in the blog\n",
      "    B. Summary of the emergence of AI in Pakistan in 2025\n",
      "    C. Importance of AI technology in shaping the future of Pakistan.\n",
      "Artificial Intelligence (AI) has become one of the most transformative technologies of the 21st century, revolutionizing various sectors such as healthcare, finance, education, and more. AI refers to the simulation of human intelligence processes by machines, including learning, reasoning, and problem-solving. Its ability to analyze vast amounts of data and make predictions or decisions based on that data has made it an invaluable tool in enhancing efficiency and accuracy in various industries.\n",
      "\n",
      "In Pakistan, the adoption of AI technology has been steadily increasing over the years, with various sectors incorporating AI into their operations to improve productivity and outcomes. However, the full potential of AI in Pakistan has yet to be realized, and the emergence of AI in the country is expected to escalate by 2025. This blog will explore the current scenario of AI in Pakistan, the factors contributing to its emergence in 2025, the impact of AI on different sectors, challenges and opportunities, future projections and trends, and the overall importance of AI in shaping the future of Pakistan.\n",
      "\n",
      "Current Scenario of AI in Pakistan:\n",
      "As of now, Pakistan is still in the early stages of AI adoption compared to other countries. However, there have been significant developments in the integration of AI technology in various sectors. In healthcare, AI is being used for disease diagnosis, treatment recommendations, and telemedicine services. In finance, AI is being utilized for fraud detection and prevention, risk analysis, and customer service. In education, AI is being employed for personalized learning experiences, virtual classrooms, and online education platforms.\n",
      "\n",
      "Despite these advancements, Pakistan faces challenges in adopting AI technology, including limited resources, lack of skilled workforce, and low awareness and acceptance of AI. The government, academia, and industry need to collaborate to overcome these challenges and create an enabling environment for AI innovation.\n",
      "\n",
      "Factors Contributing to the Emergence of AI in Pakistan in 2025:\n",
      "Several factors are expected to contribute to the emergence of AI in Pakistan by 2025. Government initiatives and policies promoting AI research and development, investments in AI technology, collaborations with international AI experts, and increased awareness and acceptance of AI are crucial in driving the growth of AI in the country. These factors will play a significant role in positioning Pakistan as a leading player in AI technology in the region.\n",
      "\n",
      "Impact of AI on Different Sectors in Pakistan:\n",
      "The adoption of AI technology in Pakistan will have a profound impact on various sectors. In healthcare, AI will revolutionize disease diagnosis and treatment, enable telemedicine services, and improve patient outcomes. In finance, AI will enhance banking and financial services, aid in fraud detection and prevention, and boost customer satisfaction. In education, AI will personalize learning experiences, facilitate virtual classrooms, and expand access to quality education.\n",
      "\n",
      "Challenges and Opportunities of AI in Pakistan:\n",
      "The emergence of AI in Pakistan will also present challenges and opportunities for the country. Job displacement and the upskilling of the workforce will be critical issues that need to be addressed. Privacy and ethical concerns regarding AI technology will need to be carefully managed. However, the opportunities for innovation, economic growth, and societal advancement that AI presents cannot be overlooked. The government and regulatory bodies will play a crucial role in fostering AI adoption and ensuring its responsible use.\n",
      "\n",
      "Future Projections and Trends in AI in Pakistan:\n",
      "Looking ahead, the future of AI in Pakistan is promising. Potential advancements in AI technology, the rise of AI startups and entrepreneurship, collaborations with global AI companies, and the impact of AI on society and the economy are all trends to watch out for. Pakistan has the potential to become a hub for AI innovation and excellence, leveraging its talents, resources, and strategic partnerships to shape a brighter future powered by AI technology.\n",
      "\n",
      "In conclusion, the emergence of AI in Pakistan in 2025 is poised to transform the country's economy, society, and overall development. The integration of AI technology across various sectors will drive efficiencies, improve outcomes, and create new opportunities for growth and innovation. It is imperative for Pakistan to embrace AI and harness its potential to propel the country towards a more prosperous and sustainable future.\n",
      "I would rate your blog a 9 out of 10. The introduction provides a comprehensive overview of Artificial Intelligence and sets a clear direction for the blog. The organization of the content is logical and the topics are relevant to the theme of AI in Pakistan. The inclusion of current scenarios, factors contributing to the emergence of AI, impact on different sectors, challenges, opportunities, and future projections show a well-rounded analysis of the topic. The conclusion effectively summarizes the key points and emphasizes the importance of AI in shaping the future of Pakistan. Overall, a well-structured and informative blog on AI in Pakistan.\n"
     ]
    }
   ],
   "source": [
    "initial_state = {'title': 'Emerging of the AI in the Pakistan in 2025'}\n",
    "\n",
    "final_state = workflow.invoke(initial_state)\n",
    "\n",
    "print(final_state['title'])\n",
    "print(final_state['outline'])\n",
    "print(final_state['content'])\n",
    "\n",
    "print(final_state['evaluate'])"
   ]
  }
 ],
 "metadata": {
  "kernelspec": {
   "display_name": "venv",
   "language": "python",
   "name": "python3"
  },
  "language_info": {
   "codemirror_mode": {
    "name": "ipython",
    "version": 3
   },
   "file_extension": ".py",
   "mimetype": "text/x-python",
   "name": "python",
   "nbconvert_exporter": "python",
   "pygments_lexer": "ipython3",
   "version": "3.12.0"
  }
 },
 "nbformat": 4,
 "nbformat_minor": 5
}
