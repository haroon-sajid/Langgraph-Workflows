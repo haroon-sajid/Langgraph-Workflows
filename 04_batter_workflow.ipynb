{
 "cells": [
  {
   "cell_type": "code",
   "execution_count": 32,
   "id": "cb4beeef",
   "metadata": {},
   "outputs": [],
   "source": [
    "from langgraph.graph import StateGraph, START, END\n",
    "from typing import TypedDict"
   ]
  },
  {
   "cell_type": "code",
   "execution_count": 33,
   "id": "ac4c6381",
   "metadata": {},
   "outputs": [],
   "source": [
    "class BatterState(TypedDict):\n",
    "    runs: int\n",
    "    balls: int\n",
    "    fours: int\n",
    "    sixes: int\n",
    "\n",
    "    sr: float\n",
    "    bpb: float\n",
    "    bp: float\n",
    "    summary: str"
   ]
  },
  {
   "cell_type": "code",
   "execution_count": 34,
   "id": "9f9b7212",
   "metadata": {},
   "outputs": [],
   "source": [
    "# create the strike rate node\n",
    "def calculate_sr(state: BatterState) -> BatterState:\n",
    "    sr = (state['runs']/state['balls'])*100\n",
    "\n",
    "    return {'sr': sr}"
   ]
  },
  {
   "cell_type": "code",
   "execution_count": 35,
   "id": "ff3764d7",
   "metadata": {},
   "outputs": [],
   "source": [
    "# create the ball per boundry node\n",
    "def calculate_bpb(state: BatterState) -> BatterState:\n",
    "    bpb = state['balls']/(state['fours']+state['sixes'])\n",
    "\n",
    "    return {'bpb': bpb}"
   ]
  },
  {
   "cell_type": "code",
   "execution_count": 36,
   "id": "a2689358",
   "metadata": {},
   "outputs": [],
   "source": [
    "# create the boundary percent \n",
    "def calculate_bp(state: BatterState) -> BatterState:\n",
    "    bp = ((state['fours']*4) + (state['sixes'] * 6) / state['runs']) * 100\n",
    "\n",
    "    return {'bp':bp}"
   ]
  },
  {
   "cell_type": "code",
   "execution_count": 37,
   "id": "7f279b6b",
   "metadata": {},
   "outputs": [],
   "source": [
    "# create the smmary node\n",
    "def summary(state: BatterState) -> BatterState:\n",
    "    \n",
    "    summary = f\"\"\"\n",
    "Strike Rate - {state['sr']} \\n \n",
    "Balls per boundary - {state['bpb']} \\n\n",
    "Boundary percentage - {state['bp']} \\n\n",
    "\n",
    "\"\"\"\n",
    "    \n",
    "    return {'summary': summary}"
   ]
  },
  {
   "cell_type": "code",
   "execution_count": 38,
   "id": "593f25f3",
   "metadata": {},
   "outputs": [],
   "source": [
    "graph = StateGraph(BatterState)\n",
    "\n",
    "# define the nodes\n",
    "graph.add_node('calculate_sr', calculate_sr)\n",
    "graph.add_node('calculate_bpb', calculate_bpb)\n",
    "graph.add_node('calculate_bp', calculate_bp)\n",
    "graph.add_node('summary', summary)\n",
    "\n",
    "\n",
    "# define the edges \n",
    "graph.add_edge(START, 'calculate_sr')\n",
    "graph.add_edge(START, 'calculate_bpb')\n",
    "graph.add_edge(START, 'calculate_bp')\n",
    "\n",
    "graph.add_edge('calculate_sr', 'summary')\n",
    "graph.add_edge('calculate_bpb', 'summary')\n",
    "graph.add_edge('calculate_bp', 'summary')\n",
    "\n",
    "\n",
    "graph.add_edge('summary', END)\n",
    "\n",
    "\n",
    "workflow = graph.compile()"
   ]
  },
  {
   "cell_type": "code",
   "execution_count": 39,
   "id": "1d9472cc",
   "metadata": {},
   "outputs": [
    {
     "data": {
      "image/png": "[encoded data removed]",
      "text/plain": [
       "<langgraph.graph.state.CompiledStateGraph object at 0x000001EC32F8C6E0>"
      ]
     },
     "execution_count": 39,
     "metadata": {},
     "output_type": "execute_result"
    }
   ],
   "source": [
    "workflow"
   ]
  },
  {
   "cell_type": "code",
   "execution_count": 40,
   "id": "8526b2c3",
   "metadata": {},
   "outputs": [
    {
     "data": {
      "text/plain": [
       "{'runs': 100,\n",
       " 'balls': 50,\n",
       " 'fours': 6,\n",
       " 'sixes': 4,\n",
       " 'sr': 200.0,\n",
       " 'bpb': 5.0,\n",
       " 'bp': 2424.0,\n",
       " 'summary': '\\nStrike Rate - 200.0 \\n \\nBalls per boundary - 5.0 \\n\\nBoundary percentage - 2424.0 \\n\\n\\n'}"
      ]
     },
     "execution_count": 40,
     "metadata": {},
     "output_type": "execute_result"
    }
   ],
   "source": [
    "# output\n",
    "\n",
    "initial_state = {'runs': 100, \n",
    "                 'balls': 50,\n",
    "                 'fours': 6,\n",
    "                 'sixes': 4,\n",
    "                 \n",
    "                 }\n",
    "\n",
    "workflow.invoke(initial_state)"
   ]
  }
 ],
 "metadata": {
  "kernelspec": {
   "display_name": "venv",
   "language": "python",
   "name": "python3"
  },
  "language_info": {
   "codemirror_mode": {
    "name": "ipython",
    "version": 3
   },
   "file_extension": ".py",
   "mimetype": "text/x-python",
   "name": "python",
   "nbconvert_exporter": "python",
   "pygments_lexer": "ipython3",
   "version": "3.12.0"
  }
 },
 "nbformat": 4,
 "nbformat_minor": 5
}
